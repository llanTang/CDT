{
 "cells": [
  {
   "cell_type": "code",
   "execution_count": 2,
   "metadata": {},
   "outputs": [
    {
     "name": "stdout",
     "output_type": "stream",
     "text": [
      "200\n"
     ]
    }
   ],
   "source": [
    "class Parent(object):\n",
    "    def __init__(self):\n",
    "        self.child=[]\n",
    "    def func1(self,child):\n",
    "        self.child.append(child)\n",
    "#定义子类，继承父类               \n",
    "class Child(Parent):\n",
    "    def __init__(self):\n",
    "        self.value=100\n",
    "\n",
    "p=Parent()\n",
    "c=Child()\n",
    "c.value=200\n",
    "p.func1(c)\n",
    "mm=p.child[0].value\n",
    "print(mm)"
   ]
  }
 ],
 "metadata": {
  "kernelspec": {
   "display_name": "Python 3",
   "language": "python",
   "name": "python3"
  },
  "language_info": {
   "codemirror_mode": {
    "name": "ipython",
    "version": 3
   },
   "file_extension": ".py",
   "mimetype": "text/x-python",
   "name": "python",
   "nbconvert_exporter": "python",
   "pygments_lexer": "ipython3",
   "version": "3.6.5"
  }
 },
 "nbformat": 4,
 "nbformat_minor": 2
}
