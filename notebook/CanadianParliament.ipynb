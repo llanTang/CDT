{
 "cells": [
  {
   "cell_type": "markdown",
   "metadata": {},
   "source": [
    "# Canadian Parliament data\n",
    "\n",
    "In this notebook, we experiment the back-door adjustment on the data from the 36th and 39th parliament from [Hirst et al.](ftp://learning.cs.toronto.edu/dist/gh/Hirst-etal-2010-JADT.pdf) as well as on the data scrapped from the 40th parliament. We focus on building a robust classifier using the backdoor adjustment method.\n",
    "\n",
    "For more details concerning the different parliaments, see the [List of Canadian federal parliaments](http://en.wikipedia.org/wiki/List_of_Canadian_federal_parliaments).\n",
    "\n",
    "# Table of Contents\n",
    "\n",
    "1. [Python imports][1]\n",
    "2. [Load data from disk][2]\n",
    "  1. [Download data from Dropbox][3]\n",
    "  2. [Load files from disk (functions)][4]\n",
    "  3. [Load data from disk (call to functions)][5]\n",
    "  4. [Vectorize dataset][6]\n",
    "3. [Experiments][7]\n",
    "  1. [Load Classifier Models][8]\n",
    "  2. [Fit on a parliament, predict on another one][9]\n",
    "  3. [Back-door Adjustment Experiment][10]\n",
    "  4. [Common top features][11]\n",
    "[1]: #Python-imports\n",
    "[2]: #Load-data-from-disk\n",
    "[3]: #Download-data-from-Dropbox\n",
    "[4]: #Load-files-from-disk-(functions)\n",
    "[5]: #Load-data-from-disk-(call-to-functions)\n",
    "[6]: #Vectorize-dataset\n",
    "[7]: #Experiments\n",
    "[8]: #Load-Classifier-Models\n",
    "[9]: #Fit-on-a-parliament,-predict-on-another-one\n",
    "[10]: #Back-door-Adjustment-Experiment\n",
    "[11]: #Common-top-features"
   ]
  },
  {
   "cell_type": "markdown",
   "metadata": {},
   "source": [
    "## Python imports"
   ]
  },
  {
   "cell_type": "code",
   "execution_count": 2,
   "metadata": {},
   "outputs": [],
   "source": [
    "import glob\n",
    "import sys\n",
    "import re\n",
    "import numpy as np\n",
    "import matplotlib.pyplot as plt\n",
    "import os.path\n",
    "\n",
    "from collections import defaultdict\n",
    "from bs4 import BeautifulSoup\n",
    "from scipy import sparse\n",
    "from scipy.stats import pearsonr, sem\n",
    "from sklearn.feature_extraction.text import TfidfVectorizer\n",
    "from sklearn.feature_selection import SelectKBest\n",
    "from sklearn.pipeline import Pipeline\n",
    "from sklearn import preprocessing\n",
    "from sklearn import linear_model\n",
    "from sklearn import svm\n",
    "from sklearn import metrics\n",
    "%matplotlib inline"
   ]
  },
  {
   "cell_type": "markdown",
   "metadata": {},
   "source": [
    "## Load data from disk\n",
    "\n",
    "### Download data from Dropbox\n",
    "Our data is [stored on Dropbox](https://www.dropbox.com/sh/pcg731664f8h4fy/AAASxoqAM29Xglt7NMQdN9i9a/hansard.tgz?dl=1) and its access is protected by a password. If you are interested in using the data for research purposes, please email one of the author to obtain the password. Once you have downloaded and unpacked the data, set the following `DATAPATH` variable to the path where the data is stored."
   ]
  },
  {
   "cell_type": "code",
   "execution_count": 3,
   "metadata": {},
   "outputs": [],
   "source": [
    "# set path to the data\n",
    "DATAPATH = ''\n",
    "HANSARD_PATH = os.path.join(DATAPATH, 'hansard')"
   ]
  },
  {
   "cell_type": "markdown",
   "metadata": {},
   "source": [
    "### Load files from disk (functions)"
   ]
  },
  {
   "cell_type": "code",
   "execution_count": 15,
   "metadata": {},
   "outputs": [],
   "source": [
    "def lazy_file_load(dir_path, file_regex, n=None, encoding='utf-8'):\n",
    "    file_path_list = sorted(glob.glob(dir_path + file_regex))\n",
    "    l = len(file_path_list)\n",
    "    _n = l if n == None or n > l else n\n",
    "    num = 0\n",
    "    while num < _n:\n",
    "        with open(file_path_list[num], encoding=encoding) as fd:\n",
    "            c = fd.read()\n",
    "            yield c\n",
    "            num += 1\n",
    "            \n",
    "party_translation = {\n",
    "    'Ref':'Conservative', 'PC':'Conservative', 'CPC':'Conservative',\n",
    "    'Lib': 'Liberal'\n",
    "}\n",
    "\n",
    "def hansard_txt(dir_path='./', lang='e', n=None, ignore_alt_parties=True):\n",
    "    regex_speaker = re.compile(r'(Mr\\.|Mrs\\.|Ms\\.|Hon\\.|The)([^\\(:]*)(\\((.+),(.+)\\))?:$')\n",
    "    regex_topic = re.compile(r'^([A-Z]{2,} +)+$')\n",
    "    regex_comment = re.compile(r'^\\([^\\(]{4,}\\)')\n",
    "\n",
    "    name2party = defaultdict(set)\n",
    "    party2names = defaultdict(set)\n",
    "    content = defaultdict(list)\n",
    "\n",
    "    topics = []\n",
    "    for i, h in enumerate(lazy_file_load(dir_path, '/*'+lang, n, \"ISO-8859-1\")):\n",
    "        h = h.split('HOUSE OF COMMONS')[1] # remove header\n",
    "        lines = h.split('\\n') # split on linefeed\n",
    "        match_comment_idx = set([i for i, l in enumerate(lines) if regex_comment.match(l)])\n",
    "        match_topic_idx = set([i for i, l in enumerate(lines) if regex_topic.match(l)])\n",
    "        # remove comments, topics, and topic separations characters\n",
    "        cond_del = lambda i: i in match_comment_idx or i in match_topic_idx or lines[i].strip() == '* * *'\n",
    "        new_lines = [l for i,l in enumerate(lines) if not cond_del(i)]\n",
    "        lines = new_lines\n",
    "        match_speaker_tuples = [(i, regex_speaker.match(l)) for i, l in enumerate(lines) if regex_speaker.match(l)]\n",
    "        for j, m in enumerate(match_speaker_tuples):\n",
    "            prefix = m[1].group(1).strip()\n",
    "            name = m[1].group(2).strip()\n",
    "            n = ' '.join([prefix, name])\n",
    "            if j+1 < len(match_speaker_tuples): # there is a next element\n",
    "                next_m = match_speaker_tuples[j+1]\n",
    "                content[n].extend(lines[m[0]+1:next_m[0]])\n",
    "            else:\n",
    "                content[n].extend(lines[m[0]+1:])\n",
    "            if m[1].group(5) is not None:\n",
    "                p = m[1].group(5).strip().strip('.')\n",
    "                p = party_translation.get(p, 'Ignore')\n",
    "                if not ignore_alt_parties or p != 'Ignore':\n",
    "                    party2names[p].add(n)\n",
    "                    name2party[n].add(p)\n",
    "                else:\n",
    "                    del content[n]\n",
    "    return name2party, party2names, content        \n",
    "    \n",
    "def hansard_xml(dir_path, n=None,  ignore_alt_parties=True):\n",
    "    regex_speaker = re.compile(r'(Mr\\.|Mrs\\.|Ms\\.|Hon\\.)([^\\(]+)\\((.+),(.+)\\)')\n",
    "    \n",
    "    name2party = defaultdict(set)\n",
    "    party2names = defaultdict(set)\n",
    "    content = defaultdict(list)\n",
    "    \n",
    "    for i, h in enumerate(lazy_file_load(dir_path, '/*', n)):\n",
    "        soup = BeautifulSoup(h, \"lxml\")\n",
    "        interventions = soup.find_all('intervention', type='Debate')\n",
    "        for intervention in interventions:\n",
    "            title = intervention.personspeaking.affiliation.string\n",
    "            if title:\n",
    "                m = regex_speaker.match(title)\n",
    "                if m:\n",
    "                    prefix = m.group(1).strip()\n",
    "                    name = m.group(2).strip()\n",
    "                    n = ' '.join([prefix, name])\n",
    "                    p = m.group(4).strip().strip('.')\n",
    "                    p = party_translation.get(p, 'Ignore')\n",
    "                    c = [p.get_text().strip() for p in intervention.content('paratext')]\n",
    "                    if not ignore_alt_parties or p != 'Ignore':\n",
    "                        name2party[n].add(p)\n",
    "                        party2names[p].add(n)\n",
    "                        content[n].extend(c)\n",
    "    # remove politicians with ambiguous labels\n",
    "    ambiguous_politicians = [k for k, v in name2party.items() if len(v) > 1]\n",
    "    for pol in ambiguous_politicians:\n",
    "        del name2party[pol]\n",
    "        for _, names in party2names.items():\n",
    "            names.discard(pol)\n",
    "        del content[pol]\n",
    "    return name2party, party2names, content\n",
    "\n",
    "def parliament_stats(n2p, p2n):\n",
    "    print('%d politicians, %d political parties.' % (len(n2p), len(p2n)))\n",
    "    parties = sorted(list(p2n.keys()))\n",
    "    for p in parties:\n",
    "        print(\"- %s:\\t%d politicians\" % (p, len(p2n[p])))"
   ]
  },
  {
   "cell_type": "markdown",
   "metadata": {},
   "source": [
    "### Load data from disk (call to functions)"
   ]
  },
  {
   "cell_type": "code",
   "execution_count": 17,
   "metadata": {},
   "outputs": [],
   "source": [
    "n2p = {}\n",
    "p2n = {}\n",
    "content = {}\n",
    "n2p[36], p2n[36], content[36] = hansard_txt(os.path.join(HANSARD_PATH, '36'))\n",
    "n2p[39], p2n[39], content[39] = hansard_xml(os.path.join(HANSARD_PATH, '39'))\n",
    "n2p[40], p2n[40], content[40] = hansard_xml(os.path.join(HANSARD_PATH, '40'))"
   ]
  },
  {
   "cell_type": "code",
   "execution_count": 18,
   "metadata": {},
   "outputs": [
    {
     "name": "stdout",
     "output_type": "stream",
     "text": [
      "= Parliament 36:\n",
      "================\n",
      "257 politicians, 2 political parties.\n",
      "- Conservative:\t80 politicians\n",
      "- Liberal:\t177 politicians\n",
      "= Parliament 39:\n",
      "================\n",
      "239 politicians, 2 political parties.\n",
      "- Conservative:\t135 politicians\n",
      "- Liberal:\t104 politicians\n",
      "= Parliament 40:\n",
      "================\n",
      "237 politicians, 2 political parties.\n",
      "- Conservative:\t158 politicians\n",
      "- Liberal:\t79 politicians\n"
     ]
    }
   ],
   "source": [
    "parl_nums = [36,39,40]\n",
    "for pn in parl_nums:\n",
    "    print('= Parliament %d:' % pn)\n",
    "    print('================')\n",
    "    parliament_stats(n2p[pn], p2n[pn])"
   ]
  },
  {
   "cell_type": "markdown",
   "metadata": {},
   "source": [
    "### Vectorize dataset"
   ]
  },
  {
   "cell_type": "code",
   "execution_count": 5,
   "metadata": {
    "collapsed": true
   },
   "outputs": [],
   "source": [
    "def vectorize_speeches(p2n, content, pns=[36,39,40], parties=['Liberal', 'Conservative']):\n",
    "    vec = TfidfVectorizer(min_df=15, max_df=.8, stop_words='english', max_features=500)\n",
    "    \n",
    "    le = preprocessing.LabelEncoder()\n",
    "    le.fit(parties)\n",
    "    \n",
    "    governing = {\n",
    "        36: 'Liberal',\n",
    "        39: 'Conservative',\n",
    "        40: 'Conservative'\n",
    "    }\n",
    "    \n",
    "    def get_all_speeches():\n",
    "        for pn in pns:\n",
    "            for party in parties:\n",
    "                for n in p2n[pn][party]:\n",
    "                    yield ' '.join(content[pn][n])\n",
    "                    \n",
    "    def get_labels():\n",
    "        all_Y = []\n",
    "        all_C = []\n",
    "        indices = {}\n",
    "        idx = 0\n",
    "        for pn in pns:\n",
    "            indices[pn] = [idx]\n",
    "            for party in parties:\n",
    "                l = len(p2n[pn][party])\n",
    "                idx += l\n",
    "                all_Y.extend(le.transform([party]*l))\n",
    "                c = 1 if party == governing[pn] else 0\n",
    "                all_C.extend([c]*l)\n",
    "            indices[pn].append(idx)\n",
    "        return np.array(all_Y), np.array(all_C), indices\n",
    "    \n",
    "    all_X = vec.fit_transform(get_all_speeches())\n",
    "    all_Y, all_C, indices = get_labels()\n",
    "\n",
    "    X = {}\n",
    "    Y = {}\n",
    "    C = {}\n",
    "    \n",
    "    for pn, (start, end) in indices.items():\n",
    "        X[pn] = all_X[start:end]\n",
    "        Y[pn] = all_Y[start:end]\n",
    "        C[pn] = all_C[start:end]\n",
    "    return X, Y, C, np.array(vec.get_feature_names())"
   ]
  },
  {
   "cell_type": "code",
   "execution_count": 6,
   "metadata": {},
   "outputs": [],
   "source": [
    "X, Y, C, feature_names = vectorize_speeches(p2n, content)"
   ]
  },
  {
   "cell_type": "markdown",
   "metadata": {},
   "source": [
    "## Experiments\n",
    "\n",
    "### Load Classifier Models"
   ]
  },
  {
   "cell_type": "code",
   "execution_count": 39,
   "metadata": {},
   "outputs": [],
   "source": [
    "%run models.py\n",
    "%run ba_c_study.py\n",
    "backdoor_adjustment_Z5 = lambda x,y,z,t,u: backdoor_adjustment_var_C(x,y,z,t,u,5)\n",
    "backdoor_adjustment_Z10 = lambda x,y,z,t,u: backdoor_adjustment_var_C(x,y,z,t,u,10)\n",
    "backdoor_adjustment_Z100 = lambda x,y,z,t,u: backdoor_adjustment_var_C(x,y,z,t,u,100)\n",
    "backdoor_adjustment_Z1000 = lambda x,y,z,t,u: backdoor_adjustment_var_C(x,y,z,t,u,1000)"
   ]
  },
  {
   "cell_type": "markdown",
   "metadata": {},
   "source": [
    "### Fit on a parliament, predict on another one\n",
    "\n",
    "In this experiment, we consider three different Canadian parliaments:\n",
    "\n",
    "   - the 36th where the government is liberal and the opposition is conservative;\n",
    "   - the 39th and 40th where the governments are conservative and the oppositions are liberal.\n",
    "\n",
    "We show that when the governing party and the opposition party are swapped between the training and the testing data, then we have a substantial decrease in the prediction accuracy."
   ]
  },
  {
   "cell_type": "code",
   "execution_count": 8,
   "metadata": {},
   "outputs": [],
   "source": [
    "def fit_pred(clf_model, X, Y, C, p_fit, p_pred):\n",
    "    # fit on p_fit\n",
    "    clf = clf_model(X[p_fit], Y[p_fit], C[p_fit], None, None)\n",
    "    # predict on p_pred\n",
    "    Y_pred = clf.predict(X[p_pred])\n",
    "    # compute baseline\n",
    "    counts = [np.sum(1-Y[p_pred]), np.sum(Y[p_pred])]\n",
    "    max_idx = np.argmax(counts)\n",
    "    baseline = 1.*counts[max_idx]/np.sum(counts)\n",
    "    # compute metrics\n",
    "    acc = metrics.accuracy_score(Y[p_pred], Y_pred)\n",
    "    return baseline, acc\n",
    "#     print(\"\\t- baseline = %.4f\\n\\t- acc = %.4f\\n\\t- f1 = %.4f\" % (baseline, acc, f1))"
   ]
  },
  {
   "cell_type": "code",
   "execution_count": 9,
   "metadata": {},
   "outputs": [],
   "source": [
    "def plot_matrix(mat, title, labels_x=None, labels_y=None, vmin=None, vmax=None, figsize=None, xlabel='Predict', ylabel='Fit'):\n",
    "    fig = plt.figure(figsize=figsize)\n",
    "    ax = fig.add_subplot(111)\n",
    "    cax = ax.matshow(mat, vmin=vmin, vmax=vmax)\n",
    "    plt.title(title)\n",
    "    fig.colorbar(cax)\n",
    "    if labels_x:\n",
    "        ax.set_xticks(np.arange(len(labels_x)))\n",
    "        ax.set_xticklabels(labels_x)\n",
    "    if labels_y:\n",
    "        ax.set_yticks(np.arange(len(labels_y)))\n",
    "        ax.set_yticklabels(labels_y)\n",
    "    plt.xlabel(xlabel)\n",
    "    plt.ylabel(ylabel)\n",
    "    for y in range(mat.shape[0]):\n",
    "        for x in range(mat.shape[1]):\n",
    "            if mat[y,x] != 0:\n",
    "                plt.text(x, y, '%.4f' % mat[y, x],\n",
    "                         horizontalalignment='center',\n",
    "                         verticalalignment='center',\n",
    "                         fontweight='bold')\n",
    "    plt.show()\n",
    "    \n",
    "\n",
    "def cross_parliement_accuracy(clf_model, X, Y, C, parl_number=None):\n",
    "    if parl_number is None:\n",
    "        parl_number = [36,39,40]\n",
    "    accuracy_matrix = np.ones((len(parl_number), len(parl_number)))\n",
    "    baseline_matrix = np.ones((len(parl_number), len(parl_number)))\n",
    "\n",
    "    for i, p_fit in enumerate(parl_number):\n",
    "        for j, p_pred in enumerate(parl_number):\n",
    "            base, acc = fit_pred(clf_model, X, Y, C, p_fit, p_pred)\n",
    "            accuracy_matrix[i,j] = acc\n",
    "            baseline_matrix[i,j] = base\n",
    "\n",
    "    return accuracy_matrix\n"
   ]
  },
  {
   "cell_type": "code",
   "execution_count": 12,
   "metadata": {
    "scrolled": true
   },
   "outputs": [
    {
     "name": "stdout",
     "output_type": "stream",
     "text": [
      "LR - avg accuracy = 0.687\n"
     ]
    },
    {
     "data": {
      "image/png": "[encoded data removed]",
      "text/plain": [
       "<matplotlib.figure.Figure at 0x7f9c0e5a3940>"
      ]
     },
     "metadata": {},
     "output_type": "display_data"
    },
    {
     "name": "stdout",
     "output_type": "stream",
     "text": [
      "BA - avg accuracy = 0.505\n"
     ]
    },
    {
     "data": {
      "image/png": "[encoded data removed]",
      "text/plain": [
       "<matplotlib.figure.Figure at 0x7f9c11fd8780>"
      ]
     },
     "metadata": {},
     "output_type": "display_data"
    },
    {
     "name": "stdout",
     "output_type": "stream",
     "text": [
      "BAZ10 - avg accuracy = 0.505\n"
     ]
    },
    {
     "data": {
      "image/png": "[encoded data removed]",
      "text/plain": [
       "<matplotlib.figure.Figure at 0x7f9c11b41e48>"
      ]
     },
     "metadata": {},
     "output_type": "display_data"
    }
   ],
   "source": [
    "models = [('LR', lr), ('BA', backdoor_adjustment), ('BAZ10', backdoor_adjustment_Z10)]\n",
    "for name, model in models:\n",
    "    accuracy_matrix = cross_parliement_accuracy(model, X, Y, C)\n",
    "    print(\"%s - avg accuracy = %.3f\" % (name, np.mean(accuracy_matrix)))\n",
    "    plot_matrix(accuracy_matrix, \"Accuracy\", parl_nums, parl_nums, vmin=0., vmax=1.)"
   ]
  },
  {
   "cell_type": "markdown",
   "metadata": {},
   "source": [
    "### Back-door Adjustment Experiment\n",
    "\n",
    "In this section, we study the progress of the back-door adjustment compared to classic methods in the following situation:\n",
    "\n",
    "- we initially only have data from the 36th parliament to train our classifier;\n",
    "- step by step, we add some data from the 39th parliament to our training data and observe the effect on accuracy."
   ]
  },
  {
   "cell_type": "code",
   "execution_count": 13,
   "metadata": {},
   "outputs": [],
   "source": [
    "from sklearn.cross_validation import KFold\n",
    "\n",
    "def do_canadian_parliament_expt(train_parl, test_parl, models, n_folds=5, init_add=5,\n",
    "                                npoints=25, score=metrics.accuracy_score, rand=None):\n",
    "    X_init = X[train_parl]\n",
    "    Y_init = Y[train_parl]\n",
    "    C_init = C[train_parl]\n",
    "    \n",
    "    X_test = X[test_parl]\n",
    "    Y_test = np.array(Y[test_parl])\n",
    "    C_test = np.array(C[test_parl])\n",
    "\n",
    "    scores = defaultdict(list)\n",
    "    additional_data = []\n",
    "    \n",
    "    n_instances = X_test.shape[0]\n",
    "    kf = KFold(n_instances, n_folds=n_folds, shuffle=True, random_state=rand)\n",
    "\n",
    "    shuffled_kf = []\n",
    "    for tr, te in kf:\n",
    "        rand.shuffle(tr)\n",
    "        shuffled_kf.append((tr, te))\n",
    "    \n",
    "    ratio = 1.*(n_folds-1)/n_folds\n",
    "    max_point = int(ratio*len(kf.idxs))\n",
    "    for step in np.linspace(init_add, max_point, npoints):\n",
    "        trial_scores = defaultdict(list)\n",
    "        step = int(step)\n",
    "        print(\"%d additional instances\" % step)\n",
    "        for cvi, (tr, te) in enumerate(shuffled_kf):\n",
    "            x_te = X_test[te]\n",
    "            y_te = Y_test[te]\n",
    "            c_te = C_test[te]\n",
    "            \n",
    "            x_tr = sparse.vstack([X_init, X_test[tr[:step]]])\n",
    "            y_tr = np.hstack([Y_init, Y_test[tr[:step]]])\n",
    "            c_tr = np.hstack([C_init, C_test[tr[:step]]])\n",
    "            for name, model in models:\n",
    "                clf = model(x_tr, y_tr, c_tr, rand, None)\n",
    "                y_pred = clf.predict(x_te)\n",
    "                acc = score(y_te, y_pred)\n",
    "                trial_scores[name].append(acc)\n",
    "        additional_data.append(step)\n",
    "        for name, model in models:\n",
    "            scores[name].append(trial_scores[name])\n",
    "    return additional_data, scores"
   ]
  },
  {
   "cell_type": "code",
   "execution_count": 63,
   "metadata": {},
   "outputs": [],
   "source": [
    "def plot_additional_data_expmt(additional_data, scores, markers, to_plot=None, xlabel=None, ylabel=None, fmt='pdf',\n",
    "                               tofile=None, ncol=None):\n",
    "    fig, ax = plt.subplots()\n",
    "    plt.grid(True)\n",
    "    models = sorted(scores.keys())\n",
    "    for i, model_name in enumerate(models):\n",
    "        print(model_name)\n",
    "        scores_list = scores[model_name]\n",
    "        if to_plot is None or model_name in to_plot:\n",
    "            mean_scores = [np.mean(x) for x in scores_list]\n",
    "            yerr = [sem(x) for x in scores_list]\n",
    "            for tup in zip(additional_data, mean_scores, yerr):\n",
    "                print(tup)\n",
    "            plt.errorbar(additional_data, mean_scores, yerr=yerr, label=model_name, fmt=markers[model_name])\n",
    "    lgd = plt.legend(loc=3, mode='expand', bbox_to_anchor=(0., 1.02, 1., 0.),\n",
    "                     ncol=i+1 if ncol is None else ncol, borderaxespad=0.)\n",
    "    if ylabel is None:\n",
    "        ylabel = params['score'].__name__\n",
    "    ax.set_ylabel(ylabel)\n",
    "    ax.set_xlabel(xlabel)\n",
    "    ax.set_xlim([min(additional_data)-2, max(additional_data)+2])\n",
    "    \n",
    "    ticks = np.linspace(min(additional_data), max(additional_data), len(additional_data))\n",
    "    plt.xticks([int(t) for i, t in enumerate(ticks) if i % 2 == 0])\n",
    "    # put grid behind other elements\n",
    "    [line.set_zorder(3) for line in ax.lines]\n",
    "    if tofile is None:\n",
    "        plt.show()\n",
    "    else:\n",
    "        plt.savefig(tofile, format=fmt, bbox_extra_artists=(lgd,), bbox_inches='tight')"
   ]
  },
  {
   "cell_type": "code",
   "execution_count": 48,
   "metadata": {
    "collapsed": true
   },
   "outputs": [],
   "source": [
    "%run models.py\n",
    "%run ba_c_study.py"
   ]
  },
  {
   "cell_type": "code",
   "execution_count": 58,
   "metadata": {
    "scrolled": false
   },
   "outputs": [
    {
     "name": "stdout",
     "output_type": "stream",
     "text": [
      "5 additional instances\n",
      "18 additional instances\n",
      "31 additional instances\n",
      "44 additional instances\n",
      "58 additional instances\n",
      "71 additional instances\n",
      "84 additional instances\n",
      "98 additional instances\n",
      "111 additional instances\n",
      "124 additional instances\n",
      "137 additional instances\n",
      "151 additional instances\n",
      "164 additional instances\n",
      "177 additional instances\n",
      "191 additional instances\n"
     ]
    }
   ],
   "source": [
    "models = [('LR', lr), ('M', matching), ('BAZ10', backdoor_adjustment_Z10),\n",
    "          ('SO', sumout), ('LRS', lr_subsampling)]#, ('BA', backdoor_adjustment)]\n",
    "# models = [('LR', lr), ('BA', backdoor_adjustment), ('LRS', lr_subsampling),('BAZ10', backdoor_adjustment_Z10)]\\\n",
    "rand=np.random.RandomState(111191)\n",
    "additional_data, scores = do_canadian_parliament_expt(36,39,models, rand=rand, npoints=15)"
   ]
  },
  {
   "cell_type": "code",
   "execution_count": 64,
   "metadata": {},
   "outputs": [
    {
     "name": "stdout",
     "output_type": "stream",
     "text": [
      "BAZ10\n",
      "(5, 0.43501773049645392, 0.025291451614575151)\n",
      "(18, 0.44335106382978723, 0.026822467425927629)\n",
      "(31, 0.57296099290780134, 0.034840989474439012)\n",
      "(44, 0.66524822695035457, 0.028751778188602348)\n",
      "(58, 0.7405141843971631, 0.014428582998468513)\n",
      "(71, 0.78226950354609925, 0.025544917025225631)\n",
      "(84, 0.80735815602836869, 0.032169248440773415)\n",
      "(98, 0.82393617021276599, 0.031967610617862269)\n",
      "(111, 0.82810283687943254, 0.036914578520398485)\n",
      "(124, 0.83218085106382989, 0.040832047601885052)\n",
      "(137, 0.85744680851063837, 0.032341331971401877)\n",
      "(151, 0.85328014184397161, 0.029208604977784412)\n",
      "(164, 0.86161347517730502, 0.031139744385565694)\n",
      "(177, 0.86586879432624109, 0.033665364307191428)\n",
      "(191, 0.8576241134751772, 0.022453505465757903)\n",
      "LR\n",
      "(5, 0.45585106382978724, 0.024056370117125161)\n",
      "(18, 0.49751773049645392, 0.024228497960560376)\n",
      "(31, 0.54361702127659572, 0.023949546433229722)\n",
      "(44, 0.57703900709219857, 0.024156540730980513)\n",
      "(58, 0.60629432624113477, 0.029130266794848578)\n",
      "(71, 0.66054964539007099, 0.034986688368719737)\n",
      "(84, 0.68581560283687948, 0.030676961461147154)\n",
      "(98, 0.7108156028368795, 0.038169655430647813)\n",
      "(111, 0.7108156028368795, 0.039838811842570244)\n",
      "(124, 0.73590425531914883, 0.035919684102884354)\n",
      "(137, 0.75682624113475172, 0.04040029890921757)\n",
      "(151, 0.7946808510638298, 0.03915098781112928)\n",
      "(164, 0.81560283687943258, 0.036230296623001507)\n",
      "(177, 0.81143617021276593, 0.034100566518600432)\n",
      "(191, 0.83235815602836882, 0.029258811311022818)\n",
      "LRS\n",
      "(5, 0.57828014184397158, 0.063275705338400837)\n",
      "(18, 0.63173758865248231, 0.038870701670638622)\n",
      "(31, 0.67757092198581559, 0.029940924011080408)\n",
      "(44, 0.72003546099290783, 0.026163974515477504)\n",
      "(58, 0.71959219858156032, 0.021664878308337774)\n",
      "(71, 0.75691489361702124, 0.02882555603017347)\n",
      "(84, 0.77801418439716308, 0.022140680128748359)\n",
      "(98, 0.80319148936170204, 0.019760258468647342)\n",
      "(111, 0.78652482269503543, 0.012515865641733837)\n",
      "(124, 0.81976950354609934, 0.031245944357320133)\n",
      "(137, 0.8326241134751774, 0.0114329054111602)\n",
      "(151, 0.83244680851063835, 0.019143599860605022)\n",
      "(164, 0.83244680851063835, 0.019143599860605022)\n",
      "(177, 0.85735815602836885, 0.023203591199100693)\n",
      "(191, 0.84911347517730495, 0.020847757945823261)\n",
      "M\n",
      "(5, 0.54406028368794312, 0.028494085580745395)\n",
      "(18, 0.57774822695035466, 0.032951305997994861)\n",
      "(31, 0.56923758865248231, 0.02689269798419211)\n",
      "(44, 0.59432624113475185, 0.030748931684015695)\n",
      "(58, 0.61099290780141846, 0.03731063761370057)\n",
      "(71, 0.63625886524822695, 0.038764964188929489)\n",
      "(84, 0.62349290780141842, 0.043546465666557711)\n",
      "(98, 0.65718085106382973, 0.043546240066074111)\n",
      "(111, 0.66134751773049649, 0.045902171647468085)\n",
      "(124, 0.67792553191489358, 0.039097051328255646)\n",
      "(137, 0.69893617021276599, 0.042702392467737549)\n",
      "(151, 0.73634751773049645, 0.034068227334668771)\n",
      "(164, 0.74893617021276593, 0.033609581313048635)\n",
      "(177, 0.76143617021276588, 0.046012559915597162)\n",
      "(191, 0.75718085106382982, 0.044691183863767948)\n",
      "SO\n",
      "(5, 0.43918439716312052, 0.028910225557640876)\n",
      "(18, 0.52721631205673758, 0.021252849485112787)\n",
      "(31, 0.63147163120567373, 0.0288667647544536)\n",
      "(44, 0.68200354609929081, 0.033187776357756417)\n",
      "(58, 0.69849290780141848, 0.026014783543762784)\n",
      "(71, 0.75700354609929077, 0.026125572163094385)\n",
      "(84, 0.80328014184397156, 0.017110962560196067)\n",
      "(98, 0.84095744680851059, 0.021529689268402458)\n",
      "(111, 0.81578014184397174, 0.0085224043223629878)\n",
      "(124, 0.84069148936170213, 0.023215527617290281)\n",
      "(137, 0.84911347517730495, 0.021863938097822527)\n",
      "(151, 0.85744680851063837, 0.020936161653835533)\n",
      "(164, 0.86578014184397156, 0.022228361423118043)\n",
      "(177, 0.86595744680851061, 0.017285301765077844)\n",
      "(191, 0.86179078014184396, 0.014508568509094535)\n"
     ]
    },
    {
     "data": {
      "image/png": "[encoded data removed]",
      "text/plain": [
       "<matplotlib.figure.Figure at 0x7f9c12ba0a20>"
      ]
     },
     "metadata": {},
     "output_type": "display_data"
    }
   ],
   "source": [
    "markers = {'LR': 'rx-', 'LRS': 'cD-', 'BA': 'bs-','BAZ10': 'gv-','SO': 'y*-', 'M': 'm^-'}\n",
    "plot_additional_data_expmt(additional_data, scores, markers, xlabel='Number of additional training instances',\n",
    "                           ylabel='Accuracy', tofile='../paper/figures/canadian_parliament_main_expt.pdf')"
   ]
  },
  {
   "cell_type": "code",
   "execution_count": 22,
   "metadata": {},
   "outputs": [
    {
     "name": "stdout",
     "output_type": "stream",
     "text": [
      "            liberals\t15.632\t0.000\n",
      "       conservatives\t8.356\t0.004\n",
      "                2007\t4.819\t0.028\n",
      "         afghanistan\t4.512\t0.034\n",
      "             farmers\t3.729\t0.053\n",
      "              senate\t3.018\t0.082\n",
      "            property\t2.999\t0.083\n",
      "               taxes\t2.944\t0.086\n",
      "             deficit\t2.445\t0.118\n",
      "                2006\t2.183\t0.139\n"
     ]
    }
   ],
   "source": [
    "from sklearn.feature_selection import chi2\n",
    "\n",
    "Xstack = sparse.vstack([X[36], X[39]])\n",
    "Ystack = np.hstack([Y[36], Y[39]])\n",
    "Cstack = np.hstack([C[36], C[39]])\n",
    "x2, pval = chi2(Xstack, Ystack)\n",
    "x2_sort_idx = np.argsort(x2)\n",
    "\n",
    "for ft_idx in x2_sort_idx[::-1][:10]:\n",
    "    vals = tuple([vec[ft_idx] for vec in [feature_names, x2, pval]])\n",
    "    print(\"%20s\\t%5.3f\\t%5.3f\" % vals)"
   ]
  },
  {
   "cell_type": "markdown",
   "metadata": {},
   "source": [
    "### Common top features\n",
    "\n",
    "For this experiment, we fit a logistic regression model on the data from each parliament. We then look at the N features with the largest coefficient in this model for each class (i.e. 'Liberal' and 'Conservative'). This gives us the N most predictive features for each party in every parliament.\n",
    "\n",
    "We then compute a common features score to see how close the predictive vocabularies are for two different parties in two parliaments. Let's note $C_{ijn}$ the coefficients vector for party $i$ in parliament $j$ for the top $n$ features and $F_{ijn}$ the corresponding features vector, then we compute the common features score $S$ as follows:\n",
    "\n",
    "$$\n",
    "S(i,j,r,s,n) = \\sum_{v,w,F_{ijn}[v]=F_{rsn}[w]}{C_{ijn}[v] + C_{rsn}[w]}\n",
    "$$\n",
    "\n",
    "In another words the common features score is the sum of the coefficients for the features that appear in the two parliament/party pairs we want to compare."
   ]
  },
  {
   "cell_type": "code",
   "execution_count": 653,
   "metadata": {},
   "outputs": [],
   "source": [
    "def get_top_features(clf, p, feature_names, labels, n=10):\n",
    "    clf.fit(X[p],Y[p])\n",
    "    top_n_idx = {}\n",
    "    label2index = {}\n",
    "    top_features_dict = {}\n",
    "    if len(labels) == 2:\n",
    "        label2index[labels[0]] = 0\n",
    "        label2index[labels[1]] = 0\n",
    "        sorted_idx = np.argsort(clf.coef_[0])\n",
    "        top_n_idx[labels[0]] = sorted_idx[::-1][:n]\n",
    "        top_n_idx[labels[1]] = sorted_idx[:n]\n",
    "    else:\n",
    "        for i, l in enumerate(labels):\n",
    "            label2index[l] = i\n",
    "            top_n_idx[l] = np.argsort(clf.coef_[i])[::-1][:n]\n",
    "    for label, top_n in top_n_idx.items():\n",
    "        top_features = feature_names[top_n]\n",
    "        top_coef = clf.coef_[label2index[label]][top_n]\n",
    "        top_features_dict[label] = list(zip(top_features, top_coef))\n",
    "    return top_features_dict        \n",
    "    \n"
   ]
  },
  {
   "cell_type": "code",
   "execution_count": 656,
   "metadata": {
    "scrolled": true
   },
   "outputs": [],
   "source": [
    "top_features = {}\n",
    "for parl in parl_number:\n",
    "    top_features[parl] = get_top_features(svc_clf, parl, feature_names, labels, n=100)\n"
   ]
  },
  {
   "cell_type": "code",
   "execution_count": 817,
   "metadata": {},
   "outputs": [],
   "source": [
    "labels = le.classes_\n",
    "feature_names = np.array(vec.get_feature_names())\n",
    "\n",
    "def common_features_coef_ratio(parl1, party1, parl2, party2):\n",
    "    top_dict1 = get_top_features(svc_clf, parl1, feature_names, labels, n=n)\n",
    "    fts_p1, coef_p1 = zip(*top_dict1[party1])\n",
    "    fts_p1 = np.array(fts_p1)\n",
    "    coef_p1 = np.abs(coef_p1)\n",
    "\n",
    "    top_dict2 = get_top_features(svc_clf, parl2, feature_names, labels, n=n)\n",
    "    fts_p2, coef_p2 = zip(*top_dict2[party2])\n",
    "    fts_p2 = np.array(fts_p2)\n",
    "    coef_p2 = np.abs(coef_p2)\n",
    "    \n",
    "    common_fts_idx = [(i, int(np.where(fts_p2 == fts_p1[i])[0])) for i in range(fts_p1.shape[0]) if fts_p1[i] in fts_p2]\n",
    "    acc = 0\n",
    "    print(\"Common features between %d%s and %d%s:\" % (parl1, party1[0], parl2, party2[0]))\n",
    "    if not common_fts_idx:\n",
    "        print(\"\\tNone\")\n",
    "    else:\n",
    "        header = \"\\t  %-20s\\t%s\\t%s\\t%s\\t%s\\t%s\\t%s\" % ('feature name', 'idx1', 'coef1', 'idx2', 'coef2', 'dt idx', 'dt coef')\n",
    "        print(header)\n",
    "        print('\\t\\t%s' % ('-'*len(header)))\n",
    "    sum_coefs = np.sum(coef_p1) + np.sum(coef_p2)\n",
    "    for idx1, idx2 in common_fts_idx:\n",
    "        acc += coef_p1[idx1]\n",
    "        acc += coef_p2[idx2]\n",
    "        print(\"\\t- %-20s\\t%d\\t%.3f\\t%d\\t%.3f\\t%d\\t%.3f\" % (fts_p1[idx1], idx1, coef_p1[idx1], idx2, coef_p2[idx2],\n",
    "                                                     np.abs(idx1-idx2), np.abs(coef_p1[idx1]-coef_p2[idx2])))\n",
    "    return acc/sum_coefs"
   ]
  },
  {
   "cell_type": "code",
   "execution_count": 818,
   "metadata": {
    "scrolled": true
   },
   "outputs": [
    {
     "name": "stdout",
     "output_type": "stream",
     "text": [
      "Common features between 36C and 36L:\n",
      "\tNone\n",
      "Common features between 36L and 36C:\n",
      "\tNone\n",
      "Common features between 36C and 39C:\n",
      "\t  feature name        \tidx1\tcoef1\tidx2\tcoef2\tdt idx\tdt coef\n",
      "\t\t------------------------------------------------------------\n",
      "\t- ontario             \t12\t0.471\t5\t0.667\t7\t0.196\n",
      "\t- deficit             \t14\t0.452\t24\t0.433\t10\t0.019\n",
      "\t- nation              \t45\t0.300\t26\t0.422\t19\t0.123\n",
      "Common features between 36C and 39L:\n",
      "\t  feature name        \tidx1\tcoef1\tidx2\tcoef2\tdt idx\tdt coef\n",
      "\t\t------------------------------------------------------------\n",
      "\t- report              \t1\t0.786\t6\t0.653\t5\t0.133\n",
      "\t- standing            \t2\t0.765\t9\t0.647\t7\t0.118\n",
      "\t- languages           \t9\t0.533\t7\t0.652\t2\t0.119\n",
      "\t- proud               \t16\t0.450\t21\t0.496\t5\t0.046\n",
      "\t- benefits            \t25\t0.364\t28\t0.405\t3\t0.040\n",
      "\t- bloc                \t26\t0.363\t4\t0.724\t22\t0.361\n",
      "\t- provides            \t29\t0.362\t18\t0.503\t11\t0.141\n",
      "\t- benefit             \t40\t0.314\t20\t0.497\t20\t0.183\n",
      "\t- committed           \t41\t0.311\t2\t0.784\t39\t0.473\n",
      "\t- measures            \t43\t0.307\t15\t0.547\t28\t0.240\n",
      "Common features between 36L and 39C:\n",
      "\t  feature name        \tidx1\tcoef1\tidx2\tcoef2\tdt idx\tdt coef\n",
      "\t\t------------------------------------------------------------\n",
      "\t- money               \t2\t1.332\t28\t0.413\t26\t0.919\n",
      "\t- problem             \t6\t0.759\t19\t0.517\t13\t0.242\n",
      "\t- really              \t13\t0.606\t27\t0.417\t14\t0.189\n",
      "\t- conservative        \t16\t0.586\t1\t2.618\t15\t2.032\n",
      "\t- little              \t17\t0.581\t31\t0.399\t14\t0.183\n",
      "\t- newfoundland        \t18\t0.579\t12\t0.555\t6\t0.024\n",
      "\t- lot                 \t20\t0.572\t30\t0.402\t10\t0.170\n",
      "\t- instead             \t30\t0.488\t22\t0.467\t8\t0.021\n",
      "\t- justice             \t36\t0.473\t13\t0.545\t23\t0.073\n",
      "Common features between 36L and 39L:\n",
      "\t  feature name        \tidx1\tcoef1\tidx2\tcoef2\tdt idx\tdt coef\n",
      "\t\t------------------------------------------------------------\n",
      "\t- liberal             \t0\t1.907\t11\t0.587\t11\t1.319\n",
      "\t- liberals            \t1\t1.634\t0\t1.765\t1\t0.131\n",
      "\t- victims             \t7\t0.755\t14\t0.559\t7\t0.196\n",
      "\t- farmers             \t8\t0.725\t5\t0.696\t3\t0.029\n",
      "\t- tax                 \t9\t0.701\t3\t0.784\t6\t0.083\n",
      "\t- senate              \t21\t0.556\t13\t0.569\t8\t0.013\n",
      "\t- home                \t23\t0.539\t35\t0.350\t12\t0.189\n",
      "\t- property            \t27\t0.501\t17\t0.515\t10\t0.015\n",
      "\t- parents             \t29\t0.497\t46\t0.321\t17\t0.175\n",
      "\t- alberta             \t42\t0.429\t37\t0.339\t5\t0.090\n",
      "\t- consent             \t43\t0.408\t40\t0.333\t3\t0.075\n",
      "Common features between 36C and 40C:\n",
      "\t  feature name        \tidx1\tcoef1\tidx2\tcoef2\tdt idx\tdt coef\n",
      "\t\t------------------------------------------------------------\n",
      "\t- human               \t5\t0.607\t38\t0.419\t33\t0.189\n",
      "\t- deficit             \t14\t0.452\t2\t1.012\t12\t0.559\n",
      "\t- information         \t24\t0.371\t33\t0.466\t9\t0.095\n",
      "\t- budget              \t28\t0.362\t13\t0.589\t15\t0.227\n",
      "Common features between 36C and 40L:\n",
      "\t  feature name        \tidx1\tcoef1\tidx2\tcoef2\tdt idx\tdt coef\n",
      "\t\t------------------------------------------------------------\n",
      "\t- quebec              \t0\t1.120\t42\t0.314\t42\t0.806\n",
      "\t- report              \t1\t0.786\t35\t0.350\t34\t0.436\n",
      "\t- standing            \t2\t0.765\t11\t0.565\t9\t0.200\n",
      "\t- honour              \t8\t0.553\t22\t0.398\t14\t0.155\n",
      "\t- languages           \t9\t0.533\t9\t0.597\t0\t0.064\n",
      "\t- proud               \t16\t0.450\t3\t0.693\t13\t0.243\n",
      "\t- provided            \t19\t0.412\t48\t0.278\t29\t0.133\n",
      "\t- efforts             \t20\t0.393\t41\t0.315\t21\t0.077\n",
      "\t- commitment          \t22\t0.378\t23\t0.396\t1\t0.019\n",
      "\t- benefits            \t25\t0.364\t45\t0.296\t20\t0.068\n",
      "\t- bloc                \t26\t0.363\t2\t0.738\t24\t0.375\n",
      "\t- investment          \t27\t0.363\t16\t0.518\t11\t0.155\n",
      "\t- initiatives         \t31\t0.356\t43\t0.309\t12\t0.047\n",
      "\t- sector              \t39\t0.319\t39\t0.325\t0\t0.006\n",
      "\t- committed           \t41\t0.311\t17\t0.517\t24\t0.206\n",
      "\t- measures            \t43\t0.307\t12\t0.564\t31\t0.257\n",
      "Common features between 36L and 40C:\n",
      "\t  feature name        \tidx1\tcoef1\tidx2\tcoef2\tdt idx\tdt coef\n",
      "\t\t------------------------------------------------------------\n",
      "\t- money               \t2\t1.332\t3\t1.007\t1\t0.325\n",
      "\t- legislation         \t4\t1.050\t5\t0.710\t1\t0.340\n",
      "\t- problem             \t6\t0.759\t4\t0.765\t2\t0.006\n",
      "\t- says                \t11\t0.621\t42\t0.401\t31\t0.220\n",
      "\t- debate              \t12\t0.613\t19\t0.539\t7\t0.074\n",
      "\t- really              \t13\t0.606\t7\t0.665\t6\t0.059\n",
      "\t- conservative        \t16\t0.586\t1\t1.644\t15\t1.058\n",
      "\t- little              \t17\t0.581\t35\t0.439\t18\t0.142\n",
      "\t- newfoundland        \t18\t0.579\t45\t0.398\t27\t0.181\n",
      "\t- lot                 \t20\t0.572\t24\t0.521\t4\t0.051\n",
      "\t- things              \t22\t0.542\t37\t0.433\t15\t0.109\n",
      "\t- instead             \t30\t0.488\t47\t0.390\t17\t0.098\n",
      "\t- lost                \t49\t0.393\t25\t0.520\t24\t0.127\n",
      "Common features between 36L and 40L:\n",
      "\t  feature name        \tidx1\tcoef1\tidx2\tcoef2\tdt idx\tdt coef\n",
      "\t\t------------------------------------------------------------\n",
      "\t- liberal             \t0\t1.907\t26\t0.395\t26\t1.512\n",
      "\t- liberals            \t1\t1.634\t6\t0.668\t5\t0.966\n",
      "\t- taxes               \t3\t1.216\t5\t0.686\t2\t0.529\n",
      "\t- farmers             \t8\t0.725\t25\t0.395\t17\t0.329\n",
      "\t- tax                 \t9\t0.701\t34\t0.361\t25\t0.339\n",
      "\t- vote                \t19\t0.574\t46\t0.295\t27\t0.279\n",
      "\t- alberta             \t42\t0.429\t29\t0.392\t13\t0.037\n",
      "Common features between 39C and 39L:\n",
      "\tNone\n",
      "Common features between 39L and 39C:\n",
      "\tNone\n",
      "Common features between 39C and 40C:\n",
      "\t  feature name        \tidx1\tcoef1\tidx2\tcoef2\tdt idx\tdt coef\n",
      "\t\t------------------------------------------------------------\n",
      "\t- conservatives       \t0\t3.048\t0\t3.251\t0\t0.203\n",
      "\t- conservative        \t1\t2.618\t1\t1.644\t0\t0.974\n",
      "\t- cut                 \t2\t0.877\t43\t0.400\t41\t0.477\n",
      "\t- deal                \t3\t0.805\t6\t0.689\t3\t0.115\n",
      "\t- cuts                \t4\t0.675\t17\t0.549\t13\t0.126\n",
      "\t- secretary           \t6\t0.648\t34\t0.444\t28\t0.204\n",
      "\t- decision            \t7\t0.640\t18\t0.544\t11\t0.097\n",
      "\t- terms               \t8\t0.618\t29\t0.494\t21\t0.124\n",
      "\t- climate             \t9\t0.593\t23\t0.522\t14\t0.071\n",
      "\t- poverty             \t10\t0.588\t32\t0.473\t22\t0.115\n",
      "\t- newfoundland        \t12\t0.555\t45\t0.398\t33\t0.157\n",
      "\t- parliamentary       \t16\t0.525\t15\t0.572\t1\t0.047\n",
      "\t- immigration         \t17\t0.525\t40\t0.408\t23\t0.117\n",
      "\t- care                \t18\t0.517\t8\t0.656\t10\t0.139\n",
      "\t- problem             \t19\t0.517\t4\t0.765\t15\t0.249\n",
      "\t- instead             \t22\t0.467\t47\t0.390\t25\t0.077\n",
      "\t- deficit             \t24\t0.433\t2\t1.012\t22\t0.579\n",
      "\t- really              \t27\t0.417\t7\t0.665\t20\t0.248\n",
      "\t- money               \t28\t0.413\t3\t1.007\t25\t0.594\n",
      "\t- simply              \t29\t0.410\t44\t0.398\t15\t0.012\n",
      "\t- lot                 \t30\t0.402\t24\t0.521\t6\t0.120\n",
      "\t- little              \t31\t0.399\t35\t0.439\t4\t0.041\n",
      "\t- situation           \t34\t0.360\t11\t0.600\t23\t0.240\n",
      "\t- particular          \t36\t0.343\t10\t0.615\t26\t0.272\n",
      "\t- issues              \t42\t0.329\t12\t0.597\t30\t0.268\n",
      "\t- rights              \t47\t0.314\t16\t0.571\t31\t0.256\n",
      "Common features between 39C and 40L:\n",
      "\tNone\n",
      "Common features between 39L and 40C:\n",
      "\tNone\n",
      "Common features between 39L and 40L:\n",
      "\t  feature name        \tidx1\tcoef1\tidx2\tcoef2\tdt idx\tdt coef\n",
      "\t\t------------------------------------------------------------\n",
      "\t- liberals            \t0\t1.765\t6\t0.668\t6\t1.097\n",
      "\t- afghanistan         \t1\t0.816\t32\t0.365\t31\t0.451\n",
      "\t- committed           \t2\t0.784\t17\t0.517\t15\t0.266\n",
      "\t- tax                 \t3\t0.784\t34\t0.361\t31\t0.422\n",
      "\t- bloc                \t4\t0.724\t2\t0.738\t2\t0.014\n",
      "\t- farmers             \t5\t0.696\t25\t0.395\t20\t0.301\n",
      "\t- report              \t6\t0.653\t35\t0.350\t29\t0.303\n",
      "\t- languages           \t7\t0.652\t9\t0.597\t2\t0.055\n",
      "\t- standing            \t9\t0.647\t11\t0.565\t2\t0.081\n",
      "\t- liberal             \t11\t0.587\t26\t0.395\t15\t0.192\n",
      "\t- ndp                 \t12\t0.583\t8\t0.615\t4\t0.032\n",
      "\t- measures            \t15\t0.547\t12\t0.564\t3\t0.017\n",
      "\t- proud               \t21\t0.496\t3\t0.693\t18\t0.196\n",
      "\t- leader              \t23\t0.468\t1\t0.795\t22\t0.327\n",
      "\t- forces              \t24\t0.458\t15\t0.536\t9\t0.078\n",
      "\t- benefits            \t28\t0.405\t45\t0.296\t17\t0.108\n",
      "\t- offenders           \t31\t0.376\t19\t0.426\t12\t0.050\n",
      "\t- providing           \t32\t0.362\t36\t0.333\t4\t0.028\n",
      "\t- alberta             \t37\t0.339\t29\t0.392\t8\t0.053\n",
      "\t- official            \t43\t0.325\t38\t0.332\t5\t0.006\n",
      "\t- additional          \t47\t0.317\t37\t0.332\t10\t0.016\n",
      "\t- businesses          \t48\t0.315\t4\t0.688\t44\t0.373\n",
      "Common features between 40C and 39L:\n",
      "\tNone\n",
      "Common features between 40L and 39C:\n",
      "\tNone\n",
      "Common features between 40C and 40L:\n",
      "\tNone\n",
      "Common features between 40L and 40C:\n",
      "\tNone\n"
     ]
    }
   ],
   "source": [
    "n = 50\n",
    "common_features_matrix = np.zeros((6,6))\n",
    "for p1_idx, parl1 in enumerate(parl_number):\n",
    "    for p2_idx, parl2 in enumerate(parl_number):\n",
    "        for pa1_idx, party1 in enumerate(le.classes_):\n",
    "            for pa2_idx, party2 in enumerate(le.classes_):\n",
    "                r = p1_idx*2 + pa1_idx\n",
    "                c = p2_idx*2 + pa2_idx\n",
    "                if common_features_matrix[c,r] == 0 and c != r:\n",
    "                    common_features_matrix[r,c] = common_features_coef_ratio(parl1, party1, parl2, party2)\n",
    "# common_features_matrix /= np.sum(common_features_matrix)\n",
    "axis_names = [\"%d%s\" % (parl, party[0]) for parl in parl_number for party in le.classes_]"
   ]
  },
  {
   "cell_type": "code",
   "execution_count": 785,
   "metadata": {
    "scrolled": true
   },
   "outputs": [
    {
     "data": {
      "image/png": "[encoded data removed]",
      "text/plain": [
       "<matplotlib.figure.Figure at 0x7f41ddd89b70>"
      ]
     },
     "metadata": {},
     "output_type": "display_data"
    }
   ],
   "source": [
    "plot_matrix(common_features_matrix, 'Common Features Coef Sum',axis_names, axis_names, figsize=(10, 10),\n",
    "            xlabel = '', ylabel = '')"
   ]
  }
 ],
 "metadata": {
  "kernelspec": {
   "display_name": "Python 3",
   "language": "python",
   "name": "python3"
  },
  "language_info": {
   "codemirror_mode": {
    "name": "ipython",
    "version": 3
   },
   "file_extension": ".py",
   "mimetype": "text/x-python",
   "name": "python",
   "nbconvert_exporter": "python",
   "pygments_lexer": "ipython3",
   "version": "3.6.5"
  }
 },
 "nbformat": 4,
 "nbformat_minor": 1
}
