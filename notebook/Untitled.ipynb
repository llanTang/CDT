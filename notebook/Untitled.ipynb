{
 "cells": [
  {
   "cell_type": "code",
   "execution_count": 1,
   "metadata": {},
   "outputs": [
    {
     "name": "stdout",
     "output_type": "stream",
     "text": [
      "1\n",
      "0\n",
      "0\n",
      "0\n"
     ]
    }
   ],
   "source": [
    "from scipy import sparse\n",
    "from sklearn.metrics import accuracy_score, f1_score\n",
    "array=[[1,0,0,0],[1,1,0,1],[0,0,0,0],[1,0,0,1]]\n",
    "kk=sparse.csr_matrix(array)\n",
    "print(kk[0,0])\n",
    "print(kk[0,1])\n",
    "print(kk[0,2])\n",
    "print(kk[0,3])"
   ]
  },
  {
   "cell_type": "code",
   "execution_count": 2,
   "metadata": {},
   "outputs": [],
   "source": [
    "%run confound_plot.py\n",
    "%run imdb_confounding_experiments.py\n",
    "%matplotlib inline\n",
    "%run injecting_bias.py\n",
    "%run models.py"
   ]
  },
  {
   "cell_type": "code",
   "execution_count": 4,
   "metadata": {},
   "outputs": [
    {
     "name": "stdout",
     "output_type": "stream",
     "text": [
      "[[-0.01901492]]\n",
      "<class 'scipy.sparse.csr.csr_matrix'>\n",
      "<class 'list'>\n"
     ]
    }
   ],
   "source": [
    "import numpy as np\n",
    "import random\n",
    "myarray= np.random.randint(0,5,(5000,1000))\n",
    "X=sparse.csr_matrix(myarray)\n",
    "#Y=np.random.randint(0,2,(5000,1))\n",
    "#Z=np.random.randint(0,2,(5000,1))\n",
    "#k=[random.randint(0,2)for i in range(3000)]\n",
    "Y=[]\n",
    "for i in range(5000):\n",
    "    Y.append(random.randint(0,1))\n",
    "Z=[] \n",
    "for i in range(5000):\n",
    "    Z.append(random.randint(0,1))\n",
    "clf = lr(X, Y, None, None, None)\n",
    "print(clf.coef_[:,:1])\n",
    "print(type(X))\n",
    "print(type(Y))\n",
    "\n",
    "#print(k)\n"
   ]
  },
  {
   "cell_type": "code",
   "execution_count": null,
   "metadata": {},
   "outputs": [],
   "source": [
    "class Data(object):\n",
    "    pass\n",
    "data=Data()\n",
    "data.train_x=X\n",
    "data.train_y=np.array(Y)\n",
    "data.train_c=np.array(Z)\n",
    "print(data.train_y)\n",
    "test_Y=[]\n",
    "for i in range(10000):\n",
    "    test_Y.append(random.randint(0,1))\n",
    "test_Z=[]\n",
    "for i in range(10000):\n",
    "    test_Z.append(random.randint(0,1))\n",
    "data.test_x=sparse.csr_matrix(np.random.randint(0,2,(10000,1000)))\n",
    "data.test_y=np.array(test_Y)\n",
    "data.test_c=np.array(test_Z)\n",
    "print(type(data.test_y))\n",
    "print(data.test_y)\n",
    "data.feature_names=None\n",
    "pred_proba = clf.predict_proba(data.test_x)\n",
    "print(pred_proba)"
   ]
  },
  {
   "cell_type": "code",
   "execution_count": null,
   "metadata": {},
   "outputs": [],
   "source": [
    "rand = np.random.RandomState(1234567) \n",
    "train_bias = .5\n",
    "train_idx = make_confounding_data(X=data.train_x, y=data.train_y, c=data.train_c,\n",
    "                                                  pos_prob=.5, bias=train_bias, size=1500, rand=rand) \n",
    "print(train_idx)\n"
   ]
  },
  {
   "cell_type": "code",
   "execution_count": null,
   "metadata": {},
   "outputs": [],
   "source": [
    "backdoor_adjustment = lambda x,y,z,t,u: backdoor_adjustment_var_C(x,y,z,1.,t,u)\n",
    "backdoor_adjustment_Z10 = lambda x,y,z,t,u: backdoor_adjustment_var_C(x,y,z,10,t,u)\n",
    "train_idx = make_confounding_data(X=data.train_x, y=data.train_y, c=data.train_c,\n",
    "                                                pos_prob=.5, bias=.5, size=1000, rand=rand)\n",
    "models = [('LR', lr), ('M', matching), ('BAZ10', backdoor_adjustment_Z10),\n",
    "          ('SO', sumout), ('LRS', lr_subsampling), ('BA', backdoor_adjustment)]\n",
    "accuracies = defaultdict(lambda: defaultdict(lambda: []))\n",
    "test_idx = make_confounding_data(X=data.test_x, y=data.test_y, c=data.test_c,\n",
    "                                                pos_prob=.5, bias=.5, size=2000, rand=rand) "
   ]
  },
  {
   "cell_type": "code",
   "execution_count": null,
   "metadata": {},
   "outputs": [],
   "source": [
    "for name, model in models:\n",
    "    clf = model(data.train_x[train_idx], data.train_y[train_idx],\n",
    "                                data.train_c[train_idx], rand, data.feature_names)\n",
    "    y_pred = clf.predict(data.test_x[test_idx])\n",
    "    y_true = data.test_y[test_idx]\n",
    "    for y in range(3):\n",
    "        for c in range(3):\n",
    "            k = 3*y+c\n",
    "            cond = lambda x: (c == 2 or data.test_c[x] == c) and (y == 2 or data.test_y[x] == y)\n",
    "            yc_test_idx = [i for i, j in enumerate(test_idx) if cond(j)]\n",
    "            print(\"acc: %f \"%accuracy_score(y_true[yc_test_idx],\n",
    "                                                                              y_pred[yc_test_idx]))"
   ]
  },
  {
   "cell_type": "code",
   "execution_count": null,
   "metadata": {},
   "outputs": [],
   "source": [
    "class Parent(object):\n",
    "    Value = \"Hi, Parent value\"\n",
    "    def fun(self):\n",
    "        print(\"This is from Parent\")\n",
    "#定义子类，继承父类               \n",
    "class Child(Parent):\n",
    "    Value = \"Hi, Child  value\"\n",
    "    def ffun(self):\n",
    "        print(\"This is from Child\")\n",
    "\n",
    "c = Child()    \n",
    "c.fun()\n",
    "c.ffun()\n",
    "print(Child.Value)"
   ]
  }
 ],
 "metadata": {
  "kernelspec": {
   "display_name": "Python 3",
   "language": "python",
   "name": "python3"
  },
  "language_info": {
   "codemirror_mode": {
    "name": "ipython",
    "version": 3
   },
   "file_extension": ".py",
   "mimetype": "text/x-python",
   "name": "python",
   "nbconvert_exporter": "python",
   "pygments_lexer": "ipython3",
   "version": "3.6.5"
  }
 },
 "nbformat": 4,
 "nbformat_minor": 2
}
